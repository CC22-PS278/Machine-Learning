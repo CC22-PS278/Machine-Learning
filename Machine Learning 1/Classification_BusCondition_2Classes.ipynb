{
 "cells": [
  {
   "cell_type": "markdown",
   "id": "2ba17860",
   "metadata": {},
   "source": [
    "### Import Library"
   ]
  },
  {
   "cell_type": "code",
   "execution_count": 122,
   "id": "775146e7",
   "metadata": {},
   "outputs": [],
   "source": [
    "import numpy as np\n",
    "import tensorflow as tf\n",
    "from tensorflow.keras.optimizers import RMSprop\n",
    "from tensorflow.keras.models import Sequential\n",
    "from tensorflow.keras.layers import Conv2D, MaxPooling2D, Flatten, Dense, Dropout\n",
    "from tensorflow.keras.preprocessing import image\n",
    "from tensorflow.keras.preprocessing.image import ImageDataGenerator\n",
    "from tensorflow import keras\n",
    "import matplotlib.pyplot as plt"
   ]
  },
  {
   "cell_type": "markdown",
   "id": "4121db21",
   "metadata": {},
   "source": [
    "### Data Exploration"
   ]
  },
  {
   "cell_type": "code",
   "execution_count": 123,
   "id": "dfb8df6d",
   "metadata": {},
   "outputs": [],
   "source": [
    "class_names = [\"sedang\", \"penuh\"]"
   ]
  },
  {
   "cell_type": "code",
   "execution_count": 124,
   "id": "558fc816",
   "metadata": {},
   "outputs": [
    {
     "name": "stdout",
     "output_type": "stream",
     "text": [
      "Found 871 images belonging to 2 classes.\n",
      "Found 44 images belonging to 2 classes.\n"
     ]
    }
   ],
   "source": [
    "train_datagen=ImageDataGenerator(rescale=1./255,\n",
    "                  shear_range=0.2,\n",
    "                  zoom_range=0.2,\n",
    "                  horizontal_flip=True)\n",
    "\n",
    "test_datagen=ImageDataGenerator(rescale=1./255)\n",
    "\n",
    "training_set=train_datagen.flow_from_directory(r'D:/Datasets/Percobaan/Train',\n",
    "                          target_size=(64, 64),\n",
    "                          batch_size=32,\n",
    "                          classes=class_names,\n",
    "                          class_mode='categorical')\n",
    "\n",
    "test_set=test_datagen.flow_from_directory(r'D:/Datasets/Percobaan/Test',\n",
    "                       target_size=(64, 64),\n",
    "                       batch_size=32,\n",
    "                       classes=class_names,\n",
    "                       class_mode='categorical')"
   ]
  },
  {
   "cell_type": "markdown",
   "id": "21e4333a",
   "metadata": {},
   "source": [
    "### CNN Model"
   ]
  },
  {
   "cell_type": "code",
   "execution_count": 125,
   "id": "6d98589b",
   "metadata": {},
   "outputs": [],
   "source": [
    "model=tf.keras.models.Sequential([\n",
    " tf.keras.layers.Conv2D(16, (3,3), activation='relu', input_shape=(64, 64, 3)),\n",
    " tf.keras.layers.MaxPooling2D(2, 2),\n",
    " tf.keras.layers.Flatten(),\n",
    " tf.keras.layers.Dense(128, activation='relu'),\n",
    " tf.keras.layers.Dense(2, activation='softmax')\n",
    "])"
   ]
  },
  {
   "cell_type": "code",
   "execution_count": 126,
   "id": "1f59a1a6",
   "metadata": {},
   "outputs": [
    {
     "name": "stdout",
     "output_type": "stream",
     "text": [
      "Model: \"sequential_15\"\n",
      "_________________________________________________________________\n",
      "Layer (type)                 Output Shape              Param #   \n",
      "=================================================================\n",
      "conv2d_16 (Conv2D)           (None, 62, 62, 16)        448       \n",
      "_________________________________________________________________\n",
      "max_pooling2d_16 (MaxPooling (None, 31, 31, 16)        0         \n",
      "_________________________________________________________________\n",
      "flatten_16 (Flatten)         (None, 15376)             0         \n",
      "_________________________________________________________________\n",
      "dense_32 (Dense)             (None, 128)               1968256   \n",
      "_________________________________________________________________\n",
      "dense_33 (Dense)             (None, 2)                 258       \n",
      "=================================================================\n",
      "Total params: 1,968,962\n",
      "Trainable params: 1,968,962\n",
      "Non-trainable params: 0\n",
      "_________________________________________________________________\n"
     ]
    }
   ],
   "source": [
    "model.summary()"
   ]
  },
  {
   "cell_type": "markdown",
   "id": "e9a492c3",
   "metadata": {},
   "source": [
    "### Model & Callback Function"
   ]
  },
  {
   "cell_type": "code",
   "execution_count": 128,
   "id": "a36be58b",
   "metadata": {},
   "outputs": [],
   "source": [
    "model.compile(loss = 'categorical_crossentropy',\n",
    "              optimizer = 'adam',\n",
    "              metrics = ['accuracy'])\n",
    "\n",
    "class myCallback(tf.keras.callbacks.Callback):\n",
    "    def on_epoch_end(self, epoch, logs={}):\n",
    "        if(logs.get('accuracy')>0.90):\n",
    "            print(\"\\nReached >90% accuracy so cancelling training!\")\n",
    "            self.model.stop_training = True\n",
    "        \n",
    "callbacks = myCallback()"
   ]
  },
  {
   "cell_type": "markdown",
   "id": "5f2e00a0",
   "metadata": {},
   "source": [
    "### Fitting Model"
   ]
  },
  {
   "cell_type": "code",
   "execution_count": 129,
   "id": "b6fc3710",
   "metadata": {},
   "outputs": [
    {
     "name": "stdout",
     "output_type": "stream",
     "text": [
      "Epoch 1/100\n",
      "28/28 [==============================] - 235s 8s/step - loss: 0.8790 - accuracy: 0.6935 - val_loss: 1.1140 - val_accuracy: 0.2500\n",
      "Epoch 2/100\n",
      "28/28 [==============================] - 236s 8s/step - loss: 0.5658 - accuracy: 0.7371 - val_loss: 0.7553 - val_accuracy: 0.6818\n",
      "Epoch 3/100\n",
      "28/28 [==============================] - 238s 8s/step - loss: 0.4378 - accuracy: 0.8140 - val_loss: 1.0032 - val_accuracy: 0.5909\n",
      "Epoch 4/100\n",
      "28/28 [==============================] - 283s 10s/step - loss: 0.3917 - accuracy: 0.8324 - val_loss: 1.1187 - val_accuracy: 0.4545\n",
      "Epoch 5/100\n",
      "28/28 [==============================] - 285s 10s/step - loss: 0.3809 - accuracy: 0.8370 - val_loss: 1.0541 - val_accuracy: 0.6591\n",
      "Epoch 6/100\n",
      "28/28 [==============================] - 292s 10s/step - loss: 0.3533 - accuracy: 0.8507 - val_loss: 1.7762 - val_accuracy: 0.1818\n",
      "Epoch 7/100\n",
      "28/28 [==============================] - 285s 10s/step - loss: 0.3466 - accuracy: 0.8427 - val_loss: 1.4907 - val_accuracy: 0.2727\n",
      "Epoch 8/100\n",
      "28/28 [==============================] - 285s 10s/step - loss: 0.3205 - accuracy: 0.8691 - val_loss: 1.1344 - val_accuracy: 0.4773\n",
      "Epoch 9/100\n",
      "28/28 [==============================] - 281s 10s/step - loss: 0.3031 - accuracy: 0.8829 - val_loss: 1.2314 - val_accuracy: 0.6136\n",
      "Epoch 10/100\n",
      "28/28 [==============================] - 282s 10s/step - loss: 0.2981 - accuracy: 0.8944 - val_loss: 1.2054 - val_accuracy: 0.5455\n",
      "Epoch 11/100\n",
      "28/28 [==============================] - 283s 10s/step - loss: 0.2776 - accuracy: 0.8852 - val_loss: 1.3658 - val_accuracy: 0.4545\n",
      "Epoch 12/100\n",
      "28/28 [==============================] - 283s 10s/step - loss: 0.2882 - accuracy: 0.8840 - val_loss: 1.2148 - val_accuracy: 0.5455\n",
      "Epoch 13/100\n",
      "28/28 [==============================] - 287s 10s/step - loss: 0.2675 - accuracy: 0.8863 - val_loss: 1.7827 - val_accuracy: 0.2955\n",
      "Epoch 14/100\n",
      "28/28 [==============================] - 285s 10s/step - loss: 0.2750 - accuracy: 0.8909 - val_loss: 1.5431 - val_accuracy: 0.4545\n",
      "Epoch 15/100\n",
      "28/28 [==============================] - 284s 10s/step - loss: 0.2566 - accuracy: 0.8967 - val_loss: 1.6407 - val_accuracy: 0.4318\n",
      "Epoch 16/100\n",
      "28/28 [==============================] - ETA: 0s - loss: 0.2262 - accuracy: 0.9116\n",
      "Reached >90% accuracy so cancelling training!\n",
      "28/28 [==============================] - 290s 10s/step - loss: 0.2262 - accuracy: 0.9116 - val_loss: 1.4052 - val_accuracy: 0.4773\n"
     ]
    }
   ],
   "source": [
    "history = model.fit(training_set,\n",
    "                    epochs=100,\n",
    "                    validation_data=test_set,\n",
    "                    callbacks=[callbacks])"
   ]
  },
  {
   "cell_type": "markdown",
   "id": "979be825",
   "metadata": {},
   "source": [
    "### Test Accuracy"
   ]
  },
  {
   "cell_type": "code",
   "execution_count": 130,
   "id": "58dfbbda",
   "metadata": {},
   "outputs": [
    {
     "name": "stdout",
     "output_type": "stream",
     "text": [
      "2/2 [==============================] - 4s 2s/step - loss: 1.4052 - accuracy: 0.4773\n",
      "Loss :  1.4052361249923706\n",
      "Accuracy : 0.47727271914482117\n"
     ]
    }
   ],
   "source": [
    "test_loss, test_accuracy = model.evaluate(test_set, verbose=1)\n",
    "print('Loss : ', test_loss)\n",
    "print('Accuracy :', test_accuracy)"
   ]
  },
  {
   "cell_type": "markdown",
   "id": "1fae7629",
   "metadata": {},
   "source": [
    "### Graph Loss and Accuracy from Training and validation "
   ]
  },
  {
   "cell_type": "code",
   "execution_count": 131,
   "id": "39b151b8",
   "metadata": {},
   "outputs": [
    {
     "data": {
      "image/png": "[encoded data removed]",
      "text/plain": [
       "<Figure size 504x504 with 1 Axes>"
      ]
     },
     "metadata": {
      "needs_background": "light"
     },
     "output_type": "display_data"
    },
    {
     "data": {
      "image/png": "[encoded data removed]",
      "text/plain": [
       "<Figure size 504x504 with 1 Axes>"
      ]
     },
     "metadata": {
      "needs_background": "light"
     },
     "output_type": "display_data"
    }
   ],
   "source": [
    "acc = history.history['accuracy']\n",
    "val_acc = history.history['val_accuracy']\n",
    "loss = history.history['loss']\n",
    "val_loss = history.history['val_loss']\n",
    "\n",
    "epochs = range(len(acc))\n",
    "\n",
    "plt.figure(figsize=(7,7))\n",
    "\n",
    "plt.plot(epochs, acc, 'r', label='Training accuracy')\n",
    "plt.plot(epochs, val_acc, 'b', label='Validation accuracy')\n",
    "plt.title('Training and validation accuracy')\n",
    "plt.legend()\n",
    "\n",
    "plt.figure(figsize=(7,7))\n",
    "\n",
    "plt.plot(epochs, loss, 'r', label='Training Loss')\n",
    "plt.plot(epochs, val_loss, 'b', label='Validation Loss')\n",
    "plt.title('Training and validation loss')\n",
    "plt.legend()\n",
    "\n",
    "plt.show()"
   ]
  },
  {
   "cell_type": "markdown",
   "id": "babefd6b",
   "metadata": {},
   "source": [
    "### Predict Model"
   ]
  },
  {
   "cell_type": "code",
   "execution_count": 132,
   "id": "ad24596c",
   "metadata": {},
   "outputs": [
    {
     "name": "stdout",
     "output_type": "stream",
     "text": [
      "Sedang\n"
     ]
    }
   ],
   "source": [
    "test_image=image.load_img(r'D:/Datasets/Percobaan/Test/sedang/8.jpg', target_size=(64,64))\n",
    "test_image=np.expand_dims(test_image, axis=0)\n",
    "\n",
    "result=model.predict(test_image)\n",
    "\n",
    "if result[0][0] == 1:\n",
    "    print(\"Sedang\")\n",
    "elif result[0][1] == 1:\n",
    "    print(\"Penuh\")"
   ]
  },
  {
   "cell_type": "markdown",
   "id": "d93db430",
   "metadata": {},
   "source": [
    "### Save model and Convert to tflite"
   ]
  },
  {
   "cell_type": "code",
   "execution_count": 133,
   "id": "4cd653f9",
   "metadata": {},
   "outputs": [
    {
     "name": "stdout",
     "output_type": "stream",
     "text": [
      "INFO:tensorflow:Assets written to: D:/Datasets/test_saved_model_3\\assets\n"
     ]
    },
    {
     "name": "stderr",
     "output_type": "stream",
     "text": [
      "INFO:tensorflow:Assets written to: D:/Datasets/test_saved_model_3\\assets\n"
     ]
    },
    {
     "data": {
      "text/plain": [
       "580"
      ]
     },
     "execution_count": 133,
     "metadata": {},
     "output_type": "execute_result"
    }
   ],
   "source": [
    "# we will train \n",
    "import tensorflow as tf\n",
    "import pathlib\n",
    "\n",
    "# Construct a basic TF model.\n",
    "root = tf.train.Checkpoint()\n",
    "root.v1 = tf.Variable(3.)\n",
    "root.v2 = tf.Variable(2.)\n",
    "root.f = tf.function(lambda x: root.v1 * root.v2 * x)\n",
    "\n",
    "# Save the model into temp directory\n",
    "export_dir = \"D:/Datasets/test_saved_model_3\"\n",
    "input_data = tf.constant(1., shape=[1, 1])\n",
    "to_save = root.f.get_concrete_function(input_data)\n",
    "tf.saved_model.save(root, export_dir, to_save)\n",
    "# Convert the model into TF Lite.\n",
    "converter = tf.lite.TFLiteConverter.from_saved_model(export_dir)\n",
    "tflite_model = converter.convert()\n",
    "#save model \n",
    "tflite_model_files = pathlib.Path('D:/Datasets/save_model_tflite_3.tflite')\n",
    "tflite_model_files.write_bytes(tflite_model)"
   ]
  },
  {
   "cell_type": "code",
   "execution_count": null,
   "id": "f7309047",
   "metadata": {},
   "outputs": [],
   "source": []
  }
 ],
 "metadata": {
  "kernelspec": {
   "display_name": "Python 3",
   "language": "python",
   "name": "python3"
  },
  "language_info": {
   "codemirror_mode": {
    "name": "ipython",
    "version": 3
   },
   "file_extension": ".py",
   "mimetype": "text/x-python",
   "name": "python",
   "nbconvert_exporter": "python",
   "pygments_lexer": "ipython3",
   "version": "3.8.8"
  }
 },
 "nbformat": 4,
 "nbformat_minor": 5
}
