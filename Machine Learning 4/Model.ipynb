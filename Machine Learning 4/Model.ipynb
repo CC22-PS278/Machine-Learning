{
 "cells": [
  {
   "cell_type": "markdown",
   "id": "5ac438f6",
   "metadata": {},
   "source": [
    "This file contains machine learning model that develop used pre trained various VGG16 model that implement image augmentation to the own dataset and produces output of 2 classes"
   ]
  },
  {
   "cell_type": "markdown",
   "id": "986e0e43",
   "metadata": {},
   "source": [
    "# import library"
   ]
  },
  {
   "cell_type": "code",
   "execution_count": 2,
   "id": "ffe2f6d9",
   "metadata": {},
   "outputs": [],
   "source": [
    "import numpy as np\n",
    "import tensorflow as tf\n",
    "from tensorflow.keras.optimizers import RMSprop\n",
    "from tensorflow.keras.models import Sequential\n",
    "from tensorflow.keras.layers import Conv2D, MaxPooling2D, Flatten, Dense, Dropout\n",
    "from tensorflow.keras.preprocessing import image\n",
    "from tensorflow.keras.preprocessing.image import ImageDataGenerator\n",
    "from tensorflow import keras\n",
    "from tensorflow.keras import optimizers, regularizers\n",
    "import matplotlib.pyplot as plt\n",
    "import random\n",
    "import os\n",
    "from tensorflow.keras import layers"
   ]
  },
  {
   "cell_type": "markdown",
   "id": "43729184",
   "metadata": {},
   "source": [
    "# Callback func"
   ]
  },
  {
   "cell_type": "code",
   "execution_count": 4,
   "id": "7cc4303f",
   "metadata": {},
   "outputs": [],
   "source": [
    "class myCallback(tf.keras.callbacks.Callback):\n",
    "    def on_epoch_end(self, epoch, logs={}):\n",
    "        if(logs.get('val_accuracy')>0.975):\n",
    "            print(\"\\nReached >97,5% validation accuracy so cancelling training!\")\n",
    "            self.model.stop_training = True\n",
    "        \n",
    "callbacks = myCallback()"
   ]
  },
  {
   "cell_type": "markdown",
   "id": "16bac4eb",
   "metadata": {},
   "source": [
    "# PreTrain Model"
   ]
  },
  {
   "cell_type": "code",
   "execution_count": 5,
   "id": "93226f34",
   "metadata": {},
   "outputs": [
    {
     "name": "stdout",
     "output_type": "stream",
     "text": [
      "Model: \"vgg16\"\n",
      "_________________________________________________________________\n",
      " Layer (type)                Output Shape              Param #   \n",
      "=================================================================\n",
      " input_1 (InputLayer)        [(None, 224, 224, 3)]     0         \n",
      "                                                                 \n",
      " block1_conv1 (Conv2D)       (None, 224, 224, 64)      1792      \n",
      "                                                                 \n",
      " block1_conv2 (Conv2D)       (None, 224, 224, 64)      36928     \n",
      "                                                                 \n",
      " block1_pool (MaxPooling2D)  (None, 112, 112, 64)      0         \n",
      "                                                                 \n",
      " block2_conv1 (Conv2D)       (None, 112, 112, 128)     73856     \n",
      "                                                                 \n",
      " block2_conv2 (Conv2D)       (None, 112, 112, 128)     147584    \n",
      "                                                                 \n",
      " block2_pool (MaxPooling2D)  (None, 56, 56, 128)       0         \n",
      "                                                                 \n",
      " block3_conv1 (Conv2D)       (None, 56, 56, 256)       295168    \n",
      "                                                                 \n",
      " block3_conv2 (Conv2D)       (None, 56, 56, 256)       590080    \n",
      "                                                                 \n",
      " block3_conv3 (Conv2D)       (None, 56, 56, 256)       590080    \n",
      "                                                                 \n",
      " block3_pool (MaxPooling2D)  (None, 28, 28, 256)       0         \n",
      "                                                                 \n",
      " block4_conv1 (Conv2D)       (None, 28, 28, 512)       1180160   \n",
      "                                                                 \n",
      " block4_conv2 (Conv2D)       (None, 28, 28, 512)       2359808   \n",
      "                                                                 \n",
      " block4_conv3 (Conv2D)       (None, 28, 28, 512)       2359808   \n",
      "                                                                 \n",
      " block4_pool (MaxPooling2D)  (None, 14, 14, 512)       0         \n",
      "                                                                 \n",
      " block5_conv1 (Conv2D)       (None, 14, 14, 512)       2359808   \n",
      "                                                                 \n",
      " block5_conv2 (Conv2D)       (None, 14, 14, 512)       2359808   \n",
      "                                                                 \n",
      " block5_conv3 (Conv2D)       (None, 14, 14, 512)       2359808   \n",
      "                                                                 \n",
      " block5_pool (MaxPooling2D)  (None, 7, 7, 512)         0         \n",
      "                                                                 \n",
      " flatten (Flatten)           (None, 25088)             0         \n",
      "                                                                 \n",
      " fc1 (Dense)                 (None, 4096)              102764544 \n",
      "                                                                 \n",
      " fc2 (Dense)                 (None, 4096)              16781312  \n",
      "                                                                 \n",
      " predictions (Dense)         (None, 1000)              4097000   \n",
      "                                                                 \n",
      "=================================================================\n",
      "Total params: 138,357,544\n",
      "Trainable params: 138,357,544\n",
      "Non-trainable params: 0\n",
      "_________________________________________________________________\n"
     ]
    }
   ],
   "source": [
    "vgg_model=tf.keras.applications.vgg16.VGG16()\n",
    "vgg_model.summary()"
   ]
  },
  {
   "cell_type": "code",
   "execution_count": 6,
   "id": "5a6ea1c1",
   "metadata": {},
   "outputs": [],
   "source": [
    "model=keras.models.Sequential()\n",
    "for layer in vgg_model.layers[0:-1]:\n",
    "    model.add(layer)"
   ]
  },
  {
   "cell_type": "code",
   "execution_count": 7,
   "id": "406e7781",
   "metadata": {},
   "outputs": [
    {
     "name": "stdout",
     "output_type": "stream",
     "text": [
      "Model: \"sequential\"\n",
      "_________________________________________________________________\n",
      " Layer (type)                Output Shape              Param #   \n",
      "=================================================================\n",
      " block1_conv1 (Conv2D)       (None, 224, 224, 64)      1792      \n",
      "                                                                 \n",
      " block1_conv2 (Conv2D)       (None, 224, 224, 64)      36928     \n",
      "                                                                 \n",
      " block1_pool (MaxPooling2D)  (None, 112, 112, 64)      0         \n",
      "                                                                 \n",
      " block2_conv1 (Conv2D)       (None, 112, 112, 128)     73856     \n",
      "                                                                 \n",
      " block2_conv2 (Conv2D)       (None, 112, 112, 128)     147584    \n",
      "                                                                 \n",
      " block2_pool (MaxPooling2D)  (None, 56, 56, 128)       0         \n",
      "                                                                 \n",
      " block3_conv1 (Conv2D)       (None, 56, 56, 256)       295168    \n",
      "                                                                 \n",
      " block3_conv2 (Conv2D)       (None, 56, 56, 256)       590080    \n",
      "                                                                 \n",
      " block3_conv3 (Conv2D)       (None, 56, 56, 256)       590080    \n",
      "                                                                 \n",
      " block3_pool (MaxPooling2D)  (None, 28, 28, 256)       0         \n",
      "                                                                 \n",
      " block4_conv1 (Conv2D)       (None, 28, 28, 512)       1180160   \n",
      "                                                                 \n",
      " block4_conv2 (Conv2D)       (None, 28, 28, 512)       2359808   \n",
      "                                                                 \n",
      " block4_conv3 (Conv2D)       (None, 28, 28, 512)       2359808   \n",
      "                                                                 \n",
      " block4_pool (MaxPooling2D)  (None, 14, 14, 512)       0         \n",
      "                                                                 \n",
      " block5_conv1 (Conv2D)       (None, 14, 14, 512)       2359808   \n",
      "                                                                 \n",
      " block5_conv2 (Conv2D)       (None, 14, 14, 512)       2359808   \n",
      "                                                                 \n",
      " block5_conv3 (Conv2D)       (None, 14, 14, 512)       2359808   \n",
      "                                                                 \n",
      " block5_pool (MaxPooling2D)  (None, 7, 7, 512)         0         \n",
      "                                                                 \n",
      " flatten (Flatten)           (None, 25088)             0         \n",
      "                                                                 \n",
      " fc1 (Dense)                 (None, 4096)              102764544 \n",
      "                                                                 \n",
      " fc2 (Dense)                 (None, 4096)              16781312  \n",
      "                                                                 \n",
      "=================================================================\n",
      "Total params: 134,260,544\n",
      "Trainable params: 0\n",
      "Non-trainable params: 134,260,544\n",
      "_________________________________________________________________\n"
     ]
    }
   ],
   "source": [
    "for layer in model.layers:\n",
    "    layer.trainable=False\n",
    "model.summary()"
   ]
  },
  {
   "cell_type": "code",
   "execution_count": 8,
   "id": "56440a87",
   "metadata": {},
   "outputs": [],
   "source": [
    "model.add(layers.Dense(2))"
   ]
  },
  {
   "cell_type": "code",
   "execution_count": 9,
   "id": "7ca1e834",
   "metadata": {},
   "outputs": [],
   "source": [
    "loss=keras.losses.SparseCategoricalCrossentropy(from_logits=True)\n",
    "opt=keras.optimizers.Adam(learning_rate=0.0001)\n",
    "metrics=['accuracy']\n",
    "model.compile(optimizer=opt,\n",
    "              loss= loss,\n",
    "              metrics=metrics)"
   ]
  },
  {
   "cell_type": "code",
   "execution_count": 10,
   "id": "0ab679d4",
   "metadata": {},
   "outputs": [],
   "source": [
    "preprocess_input=tf.keras.applications.vgg16.preprocess_input"
   ]
  },
  {
   "cell_type": "markdown",
   "id": "6d7fb970",
   "metadata": {},
   "source": [
    "# Dataset and augmentation"
   ]
  },
  {
   "cell_type": "code",
   "execution_count": 122,
   "id": "3de9c679",
   "metadata": {},
   "outputs": [
    {
     "name": "stdout",
     "output_type": "stream",
     "text": [
      "Train set -->  ['padat', 'senggang']\n",
      "Test set -->  ['padat', 'senggang']\n"
     ]
    }
   ],
   "source": [
    "base_dir = os.path.join(\"D:/Dataset/dataset2output/\")\n",
    "\n",
    "# Train set\n",
    "train_dir = os.path.join(base_dir + \"Train\")\n",
    "print(\"Train set --> \", os.listdir(train_dir))\n",
    "\n",
    "# Test set\n",
    "test_dir = os.path.join(base_dir + \"Test\")\n",
    "print(\"Test set --> \", os.listdir(test_dir))"
   ]
  },
  {
   "cell_type": "code",
   "execution_count": 124,
   "id": "1ad0219c",
   "metadata": {},
   "outputs": [
    {
     "name": "stdout",
     "output_type": "stream",
     "text": [
      "Found 574 images belonging to 2 classes.\n",
      "Found 82 images belonging to 2 classes.\n"
     ]
    }
   ],
   "source": [
    "train_gen = keras.preprocessing.image.ImageDataGenerator(preprocessing_function=preprocess_input,\n",
    "                                                          rescale=1./255,\n",
    "                                                          rotation_range=55,\n",
    "                                                          width_shift_range=0.25, # Shifting image width by 20%\n",
    "                                                          height_shift_range=0.25,# Shifting image height by 20%\n",
    "                                                          shear_range=0.25,       # Shearing across X-axis by 20%\n",
    "                                                          zoom_range=0.25,        # Image zooming by 20%\n",
    "                                                          horizontal_flip=True,\n",
    "                                                          featurewise_center=True,\n",
    "                                                          featurewise_std_normalization=True,\n",
    "\n",
    "                                                          fill_mode = 'nearest')\n",
    "valid_gen = keras.preprocessing.image.ImageDataGenerator(preprocessing_function=preprocess_input,\n",
    "                                                          rescale=1./255,\n",
    "                                                          rotation_range=25,\n",
    "                                                          horizontal_flip=True)\n",
    "\n",
    "train_batches=train_gen.flow_from_directory(train_dir,\n",
    "    target_size = (224, 224),\n",
    "    class_mode = 'sparse',\n",
    "    batch_size = 32,\n",
    "    shuffle=True\n",
    ")\n",
    "val_batches=valid_gen.flow_from_directory(test_dir,\n",
    "    target_size = (224, 224),\n",
    "    class_mode = 'sparse',\n",
    "    batch_size = 32,\n",
    "    shuffle=True)\n",
    " "
   ]
  },
  {
   "cell_type": "markdown",
   "id": "1794e838",
   "metadata": {},
   "source": [
    "# Train model"
   ]
  },
  {
   "cell_type": "code",
   "execution_count": 125,
   "id": "ac704760",
   "metadata": {},
   "outputs": [],
   "source": [
    "physical_devices = tf.config.list_physical_devices('GPU')\n",
    "try:\n",
    "  tf.config.experimental.set_memory_growth(physical_devices[0], True)\n",
    "except:\n",
    "  # Invalid device or cannot modify virtual devices once initialized.\n",
    "  pass"
   ]
  },
  {
   "cell_type": "code",
   "execution_count": 126,
   "id": "a8e343c5",
   "metadata": {},
   "outputs": [
    {
     "name": "stderr",
     "output_type": "stream",
     "text": [
      "C:\\Users\\ACER NITRO\\AppData\\Local\\Programs\\Python\\Python39\\lib\\site-packages\\keras_preprocessing\\image\\image_data_generator.py:720: UserWarning: This ImageDataGenerator specifies `featurewise_center`, but it hasn't been fit on any training data. Fit it first by calling `.fit(numpy_data)`.\n",
      "  warnings.warn('This ImageDataGenerator specifies '\n",
      "C:\\Users\\ACER NITRO\\AppData\\Local\\Programs\\Python\\Python39\\lib\\site-packages\\keras_preprocessing\\image\\image_data_generator.py:728: UserWarning: This ImageDataGenerator specifies `featurewise_std_normalization`, but it hasn't been fit on any training data. Fit it first by calling `.fit(numpy_data)`.\n",
      "  warnings.warn('This ImageDataGenerator specifies '\n"
     ]
    },
    {
     "name": "stdout",
     "output_type": "stream",
     "text": [
      "Epoch 1/100\n",
      "17/17 [==============================] - 49s 3s/step - loss: 0.2640 - accuracy: 0.9041 - val_loss: 0.2751 - val_accuracy: 0.9062\n",
      "Epoch 2/100\n",
      "17/17 [==============================] - 47s 3s/step - loss: 0.2562 - accuracy: 0.8948 - val_loss: 0.2893 - val_accuracy: 0.8594\n",
      "Epoch 3/100\n",
      "17/17 [==============================] - 47s 3s/step - loss: 0.2347 - accuracy: 0.9096 - val_loss: 0.3596 - val_accuracy: 0.8438\n",
      "Epoch 4/100\n",
      "17/17 [==============================] - 47s 3s/step - loss: 0.2466 - accuracy: 0.9207 - val_loss: 0.2552 - val_accuracy: 0.9062\n",
      "Epoch 5/100\n",
      "17/17 [==============================] - 47s 3s/step - loss: 0.2478 - accuracy: 0.9041 - val_loss: 0.3065 - val_accuracy: 0.8906\n",
      "Epoch 6/100\n",
      "17/17 [==============================] - 48s 3s/step - loss: 0.2615 - accuracy: 0.8875 - val_loss: 0.3118 - val_accuracy: 0.8594\n",
      "Epoch 7/100\n",
      "17/17 [==============================] - 48s 3s/step - loss: 0.2449 - accuracy: 0.9041 - val_loss: 0.2738 - val_accuracy: 0.8906\n",
      "Epoch 8/100\n",
      "17/17 [==============================] - 48s 3s/step - loss: 0.2549 - accuracy: 0.8911 - val_loss: 0.3349 - val_accuracy: 0.8438\n",
      "Epoch 9/100\n",
      "17/17 [==============================] - 53s 3s/step - loss: 0.2565 - accuracy: 0.9004 - val_loss: 0.3395 - val_accuracy: 0.8438\n",
      "Epoch 10/100\n",
      "17/17 [==============================] - 50s 3s/step - loss: 0.2415 - accuracy: 0.9022 - val_loss: 0.3471 - val_accuracy: 0.8281\n",
      "Epoch 11/100\n",
      "17/17 [==============================] - 48s 3s/step - loss: 0.2198 - accuracy: 0.9207 - val_loss: 0.3045 - val_accuracy: 0.8594\n",
      "Epoch 12/100\n",
      "17/17 [==============================] - 47s 3s/step - loss: 0.2280 - accuracy: 0.9170 - val_loss: 0.3472 - val_accuracy: 0.8438\n",
      "Epoch 13/100\n",
      "17/17 [==============================] - 48s 3s/step - loss: 0.2410 - accuracy: 0.9077 - val_loss: 0.2848 - val_accuracy: 0.8594\n",
      "Epoch 14/100\n",
      "17/17 [==============================] - 48s 3s/step - loss: 0.2066 - accuracy: 0.9280 - val_loss: 0.3149 - val_accuracy: 0.9219\n",
      "Epoch 15/100\n",
      "17/17 [==============================] - 48s 3s/step - loss: 0.2294 - accuracy: 0.9059 - val_loss: 0.3334 - val_accuracy: 0.8438\n",
      "Epoch 16/100\n",
      "17/17 [==============================] - 48s 3s/step - loss: 0.2348 - accuracy: 0.9041 - val_loss: 0.3485 - val_accuracy: 0.8281\n",
      "Epoch 17/100\n",
      "17/17 [==============================] - 48s 3s/step - loss: 0.2127 - accuracy: 0.9188 - val_loss: 0.3407 - val_accuracy: 0.8281\n",
      "Epoch 18/100\n",
      "17/17 [==============================] - 48s 3s/step - loss: 0.2319 - accuracy: 0.9004 - val_loss: 0.3462 - val_accuracy: 0.8125\n",
      "Epoch 19/100\n",
      "17/17 [==============================] - 50s 3s/step - loss: 0.2412 - accuracy: 0.9096 - val_loss: 0.3821 - val_accuracy: 0.8750\n",
      "Epoch 20/100\n",
      "17/17 [==============================] - 50s 3s/step - loss: 0.2234 - accuracy: 0.9207 - val_loss: 0.2821 - val_accuracy: 0.8594\n",
      "Epoch 21/100\n",
      "17/17 [==============================] - 50s 3s/step - loss: 0.2419 - accuracy: 0.9096 - val_loss: 0.2728 - val_accuracy: 0.9062\n",
      "Epoch 22/100\n",
      "17/17 [==============================] - 49s 3s/step - loss: 0.2256 - accuracy: 0.9170 - val_loss: 0.2844 - val_accuracy: 0.9062\n",
      "Epoch 23/100\n",
      "17/17 [==============================] - 56s 3s/step - loss: 0.2365 - accuracy: 0.9041 - val_loss: 0.3313 - val_accuracy: 0.8594\n",
      "Epoch 24/100\n",
      "17/17 [==============================] - 58s 3s/step - loss: 0.2166 - accuracy: 0.9170 - val_loss: 0.3078 - val_accuracy: 0.8750\n",
      "Epoch 25/100\n",
      "17/17 [==============================] - 55s 3s/step - loss: 0.2367 - accuracy: 0.9077 - val_loss: 0.3085 - val_accuracy: 0.8750\n",
      "Epoch 26/100\n",
      "17/17 [==============================] - 52s 3s/step - loss: 0.2327 - accuracy: 0.9188 - val_loss: 0.3470 - val_accuracy: 0.8438\n",
      "Epoch 27/100\n",
      "17/17 [==============================] - 52s 3s/step - loss: 0.2189 - accuracy: 0.9225 - val_loss: 0.2949 - val_accuracy: 0.8750\n",
      "Epoch 28/100\n",
      "17/17 [==============================] - 50s 3s/step - loss: 0.2129 - accuracy: 0.9262 - val_loss: 0.3249 - val_accuracy: 0.8281\n",
      "Epoch 29/100\n",
      "17/17 [==============================] - 50s 3s/step - loss: 0.2445 - accuracy: 0.9081 - val_loss: 0.3853 - val_accuracy: 0.8125\n",
      "Epoch 30/100\n",
      "17/17 [==============================] - 50s 3s/step - loss: 0.2308 - accuracy: 0.9022 - val_loss: 0.3414 - val_accuracy: 0.8281\n",
      "Epoch 31/100\n",
      "17/17 [==============================] - 51s 3s/step - loss: 0.2173 - accuracy: 0.9188 - val_loss: 0.3534 - val_accuracy: 0.8594\n",
      "Epoch 32/100\n",
      "17/17 [==============================] - 50s 3s/step - loss: 0.2283 - accuracy: 0.9077 - val_loss: 0.3137 - val_accuracy: 0.8750\n",
      "Epoch 33/100\n",
      "17/17 [==============================] - 51s 3s/step - loss: 0.2368 - accuracy: 0.8985 - val_loss: 0.2588 - val_accuracy: 0.9219\n",
      "Epoch 34/100\n",
      "17/17 [==============================] - 51s 3s/step - loss: 0.2138 - accuracy: 0.9225 - val_loss: 0.2809 - val_accuracy: 0.9062\n",
      "Epoch 35/100\n",
      "17/17 [==============================] - 51s 3s/step - loss: 0.2307 - accuracy: 0.9077 - val_loss: 0.3876 - val_accuracy: 0.8438\n",
      "Epoch 36/100\n",
      "17/17 [==============================] - 51s 3s/step - loss: 0.2250 - accuracy: 0.9114 - val_loss: 0.3842 - val_accuracy: 0.8438\n",
      "Epoch 37/100\n",
      "17/17 [==============================] - 53s 3s/step - loss: 0.2132 - accuracy: 0.9262 - val_loss: 0.3669 - val_accuracy: 0.8125\n",
      "Epoch 38/100\n",
      "17/17 [==============================] - 51s 3s/step - loss: 0.2158 - accuracy: 0.9133 - val_loss: 0.3279 - val_accuracy: 0.8750\n",
      "Epoch 39/100\n",
      "17/17 [==============================] - 51s 3s/step - loss: 0.2155 - accuracy: 0.9133 - val_loss: 0.3903 - val_accuracy: 0.7656\n",
      "Epoch 40/100\n",
      "17/17 [==============================] - 51s 3s/step - loss: 0.2269 - accuracy: 0.9118 - val_loss: 0.3019 - val_accuracy: 0.8750\n",
      "Epoch 41/100\n",
      "17/17 [==============================] - 51s 3s/step - loss: 0.2170 - accuracy: 0.9225 - val_loss: 0.3519 - val_accuracy: 0.8438\n",
      "Epoch 42/100\n",
      "17/17 [==============================] - 51s 3s/step - loss: 0.2300 - accuracy: 0.9096 - val_loss: 0.3141 - val_accuracy: 0.8281\n",
      "Epoch 43/100\n",
      "17/17 [==============================] - 51s 3s/step - loss: 0.2093 - accuracy: 0.9225 - val_loss: 0.3033 - val_accuracy: 0.8750\n",
      "Epoch 44/100\n",
      "17/17 [==============================] - 50s 3s/step - loss: 0.2131 - accuracy: 0.9114 - val_loss: 0.3184 - val_accuracy: 0.8594\n",
      "Epoch 45/100\n",
      "17/17 [==============================] - 51s 3s/step - loss: 0.2141 - accuracy: 0.9154 - val_loss: 0.3433 - val_accuracy: 0.8281\n",
      "Epoch 46/100\n",
      "17/17 [==============================] - 51s 3s/step - loss: 0.2077 - accuracy: 0.9173 - val_loss: 0.3491 - val_accuracy: 0.8438\n",
      "Epoch 47/100\n",
      "17/17 [==============================] - 51s 3s/step - loss: 0.2289 - accuracy: 0.9059 - val_loss: 0.2727 - val_accuracy: 0.8594\n",
      "Epoch 48/100\n",
      "17/17 [==============================] - 52s 3s/step - loss: 0.2147 - accuracy: 0.9280 - val_loss: 0.3397 - val_accuracy: 0.8438\n",
      "Epoch 49/100\n",
      "17/17 [==============================] - 51s 3s/step - loss: 0.2061 - accuracy: 0.9244 - val_loss: 0.3004 - val_accuracy: 0.8594\n",
      "Epoch 50/100\n",
      "17/17 [==============================] - 51s 3s/step - loss: 0.2198 - accuracy: 0.9188 - val_loss: 0.3636 - val_accuracy: 0.8594\n",
      "Epoch 51/100\n",
      "17/17 [==============================] - 51s 3s/step - loss: 0.2035 - accuracy: 0.9246 - val_loss: 0.2551 - val_accuracy: 0.9062\n",
      "Epoch 52/100\n",
      "17/17 [==============================] - 51s 3s/step - loss: 0.2157 - accuracy: 0.9170 - val_loss: 0.2667 - val_accuracy: 0.8906\n",
      "Epoch 53/100\n",
      "17/17 [==============================] - 51s 3s/step - loss: 0.1928 - accuracy: 0.9280 - val_loss: 0.2758 - val_accuracy: 0.8281\n",
      "Epoch 54/100\n",
      "17/17 [==============================] - 51s 3s/step - loss: 0.2310 - accuracy: 0.9096 - val_loss: 0.2623 - val_accuracy: 0.8906\n",
      "Epoch 55/100\n",
      "17/17 [==============================] - 52s 3s/step - loss: 0.2272 - accuracy: 0.9228 - val_loss: 0.3033 - val_accuracy: 0.9062\n",
      "Epoch 56/100\n",
      "17/17 [==============================] - 52s 3s/step - loss: 0.2180 - accuracy: 0.9077 - val_loss: 0.3361 - val_accuracy: 0.8750\n",
      "Epoch 57/100\n",
      "17/17 [==============================] - 52s 3s/step - loss: 0.2317 - accuracy: 0.9151 - val_loss: 0.3734 - val_accuracy: 0.8281\n",
      "Epoch 58/100\n",
      "17/17 [==============================] - 49s 3s/step - loss: 0.2160 - accuracy: 0.9133 - val_loss: 0.2917 - val_accuracy: 0.8281\n"
     ]
    },
    {
     "name": "stdout",
     "output_type": "stream",
     "text": [
      "Epoch 59/100\n",
      "17/17 [==============================] - 49s 3s/step - loss: 0.1870 - accuracy: 0.9354 - val_loss: 0.2440 - val_accuracy: 0.9062\n",
      "Epoch 60/100\n",
      "17/17 [==============================] - 50s 3s/step - loss: 0.2217 - accuracy: 0.9114 - val_loss: 0.3190 - val_accuracy: 0.8594\n",
      "Epoch 61/100\n",
      "17/17 [==============================] - 50s 3s/step - loss: 0.2120 - accuracy: 0.9170 - val_loss: 0.2842 - val_accuracy: 0.8906\n",
      "Epoch 62/100\n",
      "17/17 [==============================] - 49s 3s/step - loss: 0.2025 - accuracy: 0.9336 - val_loss: 0.3644 - val_accuracy: 0.8125\n",
      "Epoch 63/100\n",
      "17/17 [==============================] - 49s 3s/step - loss: 0.2105 - accuracy: 0.9096 - val_loss: 0.3085 - val_accuracy: 0.8281\n",
      "Epoch 64/100\n",
      "17/17 [==============================] - 49s 3s/step - loss: 0.2187 - accuracy: 0.9151 - val_loss: 0.2721 - val_accuracy: 0.8750\n",
      "Epoch 65/100\n",
      "17/17 [==============================] - 50s 3s/step - loss: 0.2092 - accuracy: 0.9151 - val_loss: 0.3032 - val_accuracy: 0.8594\n",
      "Epoch 66/100\n",
      "17/17 [==============================] - 51s 3s/step - loss: 0.1813 - accuracy: 0.9317 - val_loss: 0.3267 - val_accuracy: 0.8594\n",
      "Epoch 67/100\n",
      "17/17 [==============================] - 50s 3s/step - loss: 0.1947 - accuracy: 0.9280 - val_loss: 0.2756 - val_accuracy: 0.8594\n",
      "Epoch 68/100\n",
      "17/17 [==============================] - 49s 3s/step - loss: 0.2119 - accuracy: 0.9244 - val_loss: 0.3005 - val_accuracy: 0.8594\n",
      "Epoch 69/100\n",
      "17/17 [==============================] - 49s 3s/step - loss: 0.2090 - accuracy: 0.9133 - val_loss: 0.3414 - val_accuracy: 0.8281\n",
      "Epoch 70/100\n",
      "17/17 [==============================] - 49s 3s/step - loss: 0.1992 - accuracy: 0.9280 - val_loss: 0.3318 - val_accuracy: 0.8281\n",
      "Epoch 71/100\n",
      "17/17 [==============================] - 49s 3s/step - loss: 0.2137 - accuracy: 0.9151 - val_loss: 0.3133 - val_accuracy: 0.8594\n",
      "Epoch 72/100\n",
      "17/17 [==============================] - 49s 3s/step - loss: 0.2082 - accuracy: 0.9151 - val_loss: 0.3156 - val_accuracy: 0.8438\n",
      "Epoch 73/100\n",
      "17/17 [==============================] - 49s 3s/step - loss: 0.2035 - accuracy: 0.9151 - val_loss: 0.2903 - val_accuracy: 0.8750\n",
      "Epoch 74/100\n",
      "17/17 [==============================] - 49s 3s/step - loss: 0.1943 - accuracy: 0.9244 - val_loss: 0.3305 - val_accuracy: 0.8750\n",
      "Epoch 75/100\n",
      "17/17 [==============================] - 50s 3s/step - loss: 0.1924 - accuracy: 0.9207 - val_loss: 0.3498 - val_accuracy: 0.8438\n",
      "Epoch 76/100\n",
      "17/17 [==============================] - 50s 3s/step - loss: 0.2028 - accuracy: 0.9114 - val_loss: 0.3455 - val_accuracy: 0.8125\n",
      "Epoch 77/100\n",
      "17/17 [==============================] - 50s 3s/step - loss: 0.2143 - accuracy: 0.9114 - val_loss: 0.2622 - val_accuracy: 0.8594\n",
      "Epoch 78/100\n",
      "17/17 [==============================] - 50s 3s/step - loss: 0.2136 - accuracy: 0.9188 - val_loss: 0.3120 - val_accuracy: 0.8438\n",
      "Epoch 79/100\n",
      "17/17 [==============================] - 51s 3s/step - loss: 0.1885 - accuracy: 0.9301 - val_loss: 0.2911 - val_accuracy: 0.8750\n",
      "Epoch 80/100\n",
      "17/17 [==============================] - 50s 3s/step - loss: 0.1918 - accuracy: 0.9283 - val_loss: 0.2904 - val_accuracy: 0.8750\n",
      "Epoch 81/100\n",
      "17/17 [==============================] - 49s 3s/step - loss: 0.2062 - accuracy: 0.9207 - val_loss: 0.2855 - val_accuracy: 0.8594\n",
      "Epoch 82/100\n",
      "17/17 [==============================] - 50s 3s/step - loss: 0.1864 - accuracy: 0.9299 - val_loss: 0.2621 - val_accuracy: 0.9062\n",
      "Epoch 83/100\n",
      "17/17 [==============================] - 49s 3s/step - loss: 0.1875 - accuracy: 0.9262 - val_loss: 0.2841 - val_accuracy: 0.8594\n",
      "Epoch 84/100\n",
      "17/17 [==============================] - 48s 3s/step - loss: 0.1690 - accuracy: 0.9373 - val_loss: 0.3643 - val_accuracy: 0.8125\n",
      "Epoch 85/100\n",
      "17/17 [==============================] - 49s 3s/step - loss: 0.1995 - accuracy: 0.9280 - val_loss: 0.2855 - val_accuracy: 0.8281\n",
      "Epoch 86/100\n",
      "17/17 [==============================] - 49s 3s/step - loss: 0.2216 - accuracy: 0.9096 - val_loss: 0.3599 - val_accuracy: 0.8594\n",
      "Epoch 87/100\n",
      "17/17 [==============================] - 49s 3s/step - loss: 0.1936 - accuracy: 0.9299 - val_loss: 0.2237 - val_accuracy: 0.9062\n",
      "Epoch 88/100\n",
      "17/17 [==============================] - 49s 3s/step - loss: 0.1953 - accuracy: 0.9262 - val_loss: 0.2507 - val_accuracy: 0.8750\n",
      "Epoch 89/100\n",
      "17/17 [==============================] - 49s 3s/step - loss: 0.1979 - accuracy: 0.9244 - val_loss: 0.3342 - val_accuracy: 0.8750\n",
      "Epoch 90/100\n",
      "17/17 [==============================] - 50s 3s/step - loss: 0.2067 - accuracy: 0.9170 - val_loss: 0.3085 - val_accuracy: 0.8594\n",
      "Epoch 91/100\n",
      "17/17 [==============================] - 51s 3s/step - loss: 0.2015 - accuracy: 0.9133 - val_loss: 0.3190 - val_accuracy: 0.8594\n",
      "Epoch 92/100\n",
      "17/17 [==============================] - 52s 3s/step - loss: 0.2031 - accuracy: 0.9188 - val_loss: 0.3419 - val_accuracy: 0.8125\n",
      "Epoch 93/100\n",
      "17/17 [==============================] - 52s 3s/step - loss: 0.2078 - accuracy: 0.9262 - val_loss: 0.2625 - val_accuracy: 0.8906\n",
      "Epoch 94/100\n",
      "17/17 [==============================] - 51s 3s/step - loss: 0.1893 - accuracy: 0.9280 - val_loss: 0.2381 - val_accuracy: 0.8750\n",
      "Epoch 95/100\n",
      "17/17 [==============================] - 51s 3s/step - loss: 0.2013 - accuracy: 0.9062 - val_loss: 0.2877 - val_accuracy: 0.8594\n",
      "Epoch 96/100\n",
      "17/17 [==============================] - 49s 3s/step - loss: 0.1876 - accuracy: 0.9317 - val_loss: 0.3144 - val_accuracy: 0.8594\n",
      "Epoch 97/100\n",
      "17/17 [==============================] - 50s 3s/step - loss: 0.1935 - accuracy: 0.9280 - val_loss: 0.2690 - val_accuracy: 0.8594\n",
      "Epoch 98/100\n",
      "17/17 [==============================] - 49s 3s/step - loss: 0.1965 - accuracy: 0.9151 - val_loss: 0.3120 - val_accuracy: 0.8906\n",
      "Epoch 99/100\n",
      "17/17 [==============================] - 50s 3s/step - loss: 0.1834 - accuracy: 0.9317 - val_loss: 0.2985 - val_accuracy: 0.8906\n",
      "Epoch 100/100\n",
      "17/17 [==============================] - 50s 3s/step - loss: 0.2076 - accuracy: 0.9133 - val_loss: 0.3013 - val_accuracy: 0.8281\n"
     ]
    }
   ],
   "source": [
    "batch_size = 32\n",
    "history=model.fit(train_batches,\n",
    "         epochs=100,\n",
    "         batch_size = 32,\n",
    "         steps_per_epoch=train_batches.samples//batch_size,\n",
    "         validation_data=val_batches,\n",
    "         validation_steps=val_batches.samples//batch_size,\n",
    "         verbose=1,\n",
    "         callbacks=[callbacks])"
   ]
  },
  {
   "cell_type": "markdown",
   "id": "6a799416",
   "metadata": {},
   "source": [
    "# Result"
   ]
  },
  {
   "cell_type": "code",
   "execution_count": 152,
   "id": "75c615d5",
   "metadata": {},
   "outputs": [
    {
     "name": "stdout",
     "output_type": "stream",
     "text": [
      "3/3 [==============================] - 6s 2s/step - loss: 0.2592 - accuracy: 0.9024\n",
      "Loss :  0.25921016931533813\n",
      "Accuracy : 0.9024389982223511\n"
     ]
    }
   ],
   "source": [
    "test_loss, test_accuracy = model.evaluate(val_batches, verbose=1)\n",
    "print('Loss : ', test_loss)\n",
    "print('Accuracy :', test_accuracy)"
   ]
  },
  {
   "cell_type": "code",
   "execution_count": 128,
   "id": "8345e1de",
   "metadata": {},
   "outputs": [
    {
     "data": {
      "image/png": "[encoded data removed]",
      "text/plain": [
       "<Figure size 432x288 with 1 Axes>"
      ]
     },
     "metadata": {
      "needs_background": "light"
     },
     "output_type": "display_data"
    },
    {
     "data": {
      "image/png": "[encoded data removed]",
      "text/plain": [
       "<Figure size 432x288 with 1 Axes>"
      ]
     },
     "metadata": {
      "needs_background": "light"
     },
     "output_type": "display_data"
    }
   ],
   "source": [
    "import matplotlib.pyplot as plt\n",
    "# accuracies\n",
    "plt.plot(history.history['accuracy'], label='train acc')\n",
    "plt.plot(history.history['val_accuracy'], label='val acc')\n",
    "plt.legend()\n",
    "plt.show()\n",
    "\n",
    "# loss\n",
    "plt.plot(history.history['loss'], label='train loss')\n",
    "plt.plot(history.history['val_loss'], label='val loss')\n",
    "plt.legend()\n",
    "plt.show()"
   ]
  },
  {
   "cell_type": "markdown",
   "id": "c8392a3e",
   "metadata": {},
   "source": [
    "# Convert to tflite"
   ]
  },
  {
   "cell_type": "code",
   "execution_count": 44,
   "id": "9b77b544",
   "metadata": {},
   "outputs": [
    {
     "name": "stdout",
     "output_type": "stream",
     "text": [
      "INFO:tensorflow:Assets written to: D:/Dataset/hasil/transferlearning-imgaug-2out-028-089\\assets\n"
     ]
    },
    {
     "name": "stderr",
     "output_type": "stream",
     "text": [
      "INFO:tensorflow:Assets written to: D:/Dataset/hasil/transferlearning-imgaug-2out-028-089\\assets\n",
      "WARNING:absl:Buffer deduplication procedure will be skipped when flatbuffer library is not properly loaded\n"
     ]
    },
    {
     "data": {
      "text/plain": [
       "716"
      ]
     },
     "execution_count": 44,
     "metadata": {},
     "output_type": "execute_result"
    }
   ],
   "source": [
    "# we will train \n",
    "import tensorflow as tf\n",
    "import pathlib\n",
    "\n",
    "# Construct a basic TF model.\n",
    "root = tf.train.Checkpoint()\n",
    "root.v1 = tf.Variable(3.)\n",
    "root.v2 = tf.Variable(2.)\n",
    "root.f = tf.function(lambda x: root.v1 * root.v2 * x)\n",
    "\n",
    "# Save the model into temp directory\n",
    "export_dir = \"D:/Dataset/hasil/transferlearning-imgaug-2out-028-089\"\n",
    "input_data = tf.constant(1., shape=[1, 1])\n",
    "to_save = root.f.get_concrete_function(input_data)\n",
    "tf.saved_model.save(root, export_dir, to_save)\n",
    "# Convert the model into TF Lite.\n",
    "converter = tf.lite.TFLiteConverter.from_saved_model(export_dir)\n",
    "tflite_model = converter.convert()\n",
    "#save model \n",
    "tflite_model_files = pathlib.Path('D:/Dataset/hasil/transferlearning-imgaug-2out-028-089/save_model_tflite2.tflite')\n",
    "tflite_model_files.write_bytes(tflite_model)"
   ]
  },
  {
   "cell_type": "code",
   "execution_count": null,
   "id": "93e213b8",
   "metadata": {},
   "outputs": [],
   "source": []
  }
 ],
 "metadata": {
  "kernelspec": {
   "display_name": "Python 3 (ipykernel)",
   "language": "python",
   "name": "python3"
  },
  "language_info": {
   "codemirror_mode": {
    "name": "ipython",
    "version": 3
   },
   "file_extension": ".py",
   "mimetype": "text/x-python",
   "name": "python",
   "nbconvert_exporter": "python",
   "pygments_lexer": "ipython3",
   "version": "3.9.7"
  }
 },
 "nbformat": 4,
 "nbformat_minor": 5
}
